{
 "cells": [
  {
   "metadata": {},
   "cell_type": "code",
   "outputs": [],
   "execution_count": null,
   "source": "import parser",
   "id": "de08bf8a3b0d0385"
  },
  {
   "metadata": {},
   "cell_type": "markdown",
   "source": "Загрузим последнюю версию таблиц:",
   "id": "de1b60bc39d73150"
  },
  {
   "metadata": {},
   "cell_type": "code",
   "outputs": [],
   "execution_count": null,
   "source": [
    "parser.get_df(\"sber\", save_to_file=True)\n",
    "parser.get_df(\"vtbr\", save_to_file=True)\n",
    "parser.get_df(\"tcsg\", save_to_file=True)"
   ],
   "id": "33dc1ff9dd854865"
  }
 ],
 "metadata": {
  "kernelspec": {
   "display_name": "Python 3",
   "language": "python",
   "name": "python3"
  },
  "language_info": {
   "codemirror_mode": {
    "name": "ipython",
    "version": 2
   },
   "file_extension": ".py",
   "mimetype": "text/x-python",
   "name": "python",
   "nbconvert_exporter": "python",
   "pygments_lexer": "ipython2",
   "version": "2.7.6"
  }
 },
 "nbformat": 4,
 "nbformat_minor": 5
}
